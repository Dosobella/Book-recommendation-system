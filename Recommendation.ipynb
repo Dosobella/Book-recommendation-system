{
 "cells": [
  {
   "cell_type": "markdown",
   "id": "f5d99a9c-7cb1-42bb-ae97-0b58f15e51b6",
   "metadata": {},
   "source": [
    "# User-based book Recommendation system\n",
    "This notebook demonstrates a simple user-based recommendation system using Manhattan distance to find the nearest neighbor and recommend books. This system uses user-book ratings to make recommendations for other users.\n",
    "Cell 2: Import Libraries"
   ]
  },
  {
   "cell_type": "code",
   "execution_count": 7,
   "id": "5df99a9b",
   "metadata": {},
   "outputs": [],
   "source": [
    "# import the necessary python libraries\n",
    "\n",
    "import pandas as pd                    # for data manipulation and analysis\n",
    "from tabulate import tabulate          # helps to present output in table format"
   ]
  },
  {
   "cell_type": "code",
   "execution_count": 8,
   "id": "e6e39d6d",
   "metadata": {},
   "outputs": [],
   "source": [
    "# A dictionary containing user-book ratings\n",
    "ReaderBookRatings = {\n",
    "    'Abbey': {'The Exorcist':10, 'Dune':5, 'The Hobbit':9, 'Black Beauty':6}, \n",
    "    'Bob': {'Odyssey':8, 'Beloved':3, 'Dune':10, 'The Hobbit':5, 'Black Beauty':7}, \n",
    "    'Cody': {'Hamlet':7, 'Trust':4, 'The Exorcist':5, 'Dune':9, 'The Hobbit':1}, \n",
    "    'Dan': {'Beloved':5, 'Dune':7, 'The Hobbit':4}, \n",
    "    'Emily': {'Odyssey':3, 'Beloved':8, 'Dune':1, 'Black Beauty':7}, \n",
    "    'Fausa': {'Trust':3, 'The Exorcist':10, 'Dune':6, 'The Hobbit':10}\n",
    "}"
   ]
  },
  {
   "cell_type": "code",
   "execution_count": 9,
   "id": "e6374561",
   "metadata": {},
   "outputs": [],
   "source": [
    "# manhattan distance funtion with two parameters (ratings1D, ratings2D)\n",
    "def manhattanD(ratings1D, ratings2D):\n",
    "\n",
    "    distance = 0\n",
    "    # consider a book only if both users have rated it\n",
    "    for book in ratings1D.keys():\n",
    "        if book in ratings2D.keys():\n",
    "            x = ratings1D[book]\n",
    "            y = ratings2D[book]\n",
    "            distance += pow(abs(x - y), 1)    # Add the absolute difference in a pair of ratings\n",
    "    return pow(distance, 1/1)\n",
    "         "
   ]
  },
  {
   "cell_type": "code",
   "execution_count": 10,
   "id": "ed556a59-a618-4b34-9d9c-b55c2fd34423",
   "metadata": {},
   "outputs": [],
   "source": [
    "# Create a dictionary to hold the Manhattan distances between each pair of readers\n",
    "\n",
    "manhattan_distances = {}\n",
    "for ReaderX in ReaderBookRatings:\n",
    "    manhattan_distances[ReaderX] = {}\n",
    "    for ReaderY in ReaderBookRatings:\n",
    "        if ReaderX != ReaderY:\n",
    "            # Calculate Manhattan distance between ReaderX and ReaderY\n",
    "            manhattan_distances[ReaderX][ReaderY] = manhattanD(ReaderBookRatings[ReaderX], ReaderBookRatings[ReaderY])\n",
    "        else:\n",
    "            manhattan_distances[ReaderX][ReaderY] = '-'\n",
    "        "
   ]
  },
  {
   "cell_type": "code",
   "execution_count": 11,
   "id": "464544ed-4274-4bb4-a978-a76eacb82b01",
   "metadata": {
    "scrolled": true
   },
   "outputs": [
    {
     "name": "stdout",
     "output_type": "stream",
     "text": [
      "\n",
      "Similarity Matrix:\n",
      "╒═══════╤═════════╤═══════╤════════╤═══════╤═════════╤═════════╕\n",
      "│       │ Abbey   │ Bob   │ Cody   │ Dan   │ Emily   │ Fausa   │\n",
      "╞═══════╪═════════╪═══════╪════════╪═══════╪═════════╪═════════╡\n",
      "│ Abbey │ -       │ 10.0  │ 17.0   │ 7.0   │ 5.0     │ 2.0     │\n",
      "├───────┼─────────┼───────┼────────┼───────┼─────────┼─────────┤\n",
      "│ Bob   │ 10.0    │ -     │ 5.0    │ 6.0   │ 19.0    │ 9.0     │\n",
      "├───────┼─────────┼───────┼────────┼───────┼─────────┼─────────┤\n",
      "│ Cody  │ 17.0    │ 5.0   │ -      │ 5.0   │ 8.0     │ 18.0    │\n",
      "├───────┼─────────┼───────┼────────┼───────┼─────────┼─────────┤\n",
      "│ Dan   │ 7.0     │ 6.0   │ 5.0    │ -     │ 9.0     │ 7.0     │\n",
      "├───────┼─────────┼───────┼────────┼───────┼─────────┼─────────┤\n",
      "│ Emily │ 5.0     │ 19.0  │ 8.0    │ 9.0   │ -       │ 5.0     │\n",
      "├───────┼─────────┼───────┼────────┼───────┼─────────┼─────────┤\n",
      "│ Fausa │ 2.0     │ 9.0   │ 18.0   │ 7.0   │ 5.0     │ -       │\n",
      "╘═══════╧═════════╧═══════╧════════╧═══════╧═════════╧═════════╛\n"
     ]
    }
   ],
   "source": [
    "# Convert the dictionary of distances to a pandas DataFrame for easier manipulation\n",
    "\n",
    "similarity_matrix = pd.DataFrame(manhattan_distances)\n",
    "print('\\nSimilarity Matrix:')\n",
    "print(tabulate(similarity_matrix, headers='keys', tablefmt='fancy_grid'))"
   ]
  },
  {
   "cell_type": "code",
   "execution_count": 12,
   "id": "13e9d8dc-ed6c-4491-b0de-1d67cd3863b6",
   "metadata": {},
   "outputs": [
    {
     "name": "stdout",
     "output_type": "stream",
     "text": [
      "\n",
      "Recommendations:\n",
      "╒══════════╤═══════════════════════════════════════════════════════╕\n",
      "│ Reader   │ Recommended Books                                     │\n",
      "╞══════════╪═══════════════════════════════════════════════════════╡\n",
      "│ Abbey    │ [('Trust', 3)]                                        │\n",
      "├──────────┼───────────────────────────────────────────────────────┤\n",
      "│ Bob      │ [('Hamlet', 7), ('Trust', 4), ('The Exorcist', 5)]    │\n",
      "├──────────┼───────────────────────────────────────────────────────┤\n",
      "│ Cody     │ [('Odyssey', 8), ('Beloved', 3), ('Black Beauty', 7)] │\n",
      "├──────────┼───────────────────────────────────────────────────────┤\n",
      "│ Dan      │ [('Hamlet', 7), ('Trust', 4), ('The Exorcist', 5)]    │\n",
      "├──────────┼───────────────────────────────────────────────────────┤\n",
      "│ Emily    │ [('The Exorcist', 10), ('The Hobbit', 9)]             │\n",
      "├──────────┼───────────────────────────────────────────────────────┤\n",
      "│ Fausa    │ [('Black Beauty', 6)]                                 │\n",
      "╘══════════╧═══════════════════════════════════════════════════════╛\n"
     ]
    }
   ],
   "source": [
    "# # Find recommendations for each reader based on their nearest neighbour\n",
    "\n",
    "recommendations = []\n",
    "for ReaderX in ReaderBookRatings:\n",
    "    min_distance = float('inf')\n",
    "    nearest_neighbour = None\n",
    "\n",
    "    # finding the nearest neighbour of each reader based on smallest value of manhattan distance\n",
    "    for ReaderY in ReaderBookRatings:\n",
    "        if ReaderX != ReaderY:\n",
    "            distance = manhattan_distances[ReaderX][ReaderY]\n",
    "            \n",
    "            if distance != '-' and distance < min_distance:\n",
    "                min_distance = distance\n",
    "                nearest_neighbour = ReaderY\n",
    "\n",
    "    # # Find books rated by the nearest neighbour of ReaderX but not by ReaderX\n",
    "    recommended_books = []\n",
    "    for book, rating in ReaderBookRatings[nearest_neighbour].items():\n",
    "        \n",
    "        if book not in ReaderBookRatings[ReaderX]:\n",
    "            \n",
    "            recommended_books.append((book, rating))\n",
    "\n",
    "    recommendations.append({'Reader': ReaderX, 'Recommended Books': recommended_books})\n",
    "\n",
    "# creating a recommendation table\n",
    "recommendations_table = pd.DataFrame(recommendations)\n",
    "print('\\nRecommendations:')\n",
    "print(tabulate(recommendations_table, headers='keys', showindex=False, tablefmt='fancy_grid'))\n"
   ]
  },
  {
   "cell_type": "code",
   "execution_count": null,
   "id": "a44f3197-8690-48db-a95a-2198452a68a3",
   "metadata": {},
   "outputs": [],
   "source": []
  },
  {
   "cell_type": "code",
   "execution_count": null,
   "id": "f896ed51-b9d4-44c8-943d-f1deb4fbb29c",
   "metadata": {},
   "outputs": [],
   "source": []
  },
  {
   "cell_type": "code",
   "execution_count": null,
   "id": "6c1c18b2-3bab-4923-b716-ff1a13afb469",
   "metadata": {},
   "outputs": [],
   "source": []
  },
  {
   "cell_type": "code",
   "execution_count": null,
   "id": "09750fa2-874a-41ca-aed7-fad1adf43c76",
   "metadata": {},
   "outputs": [],
   "source": []
  }
 ],
 "metadata": {
  "kernelspec": {
   "display_name": "Python 3 (ipykernel)",
   "language": "python",
   "name": "python3"
  },
  "language_info": {
   "codemirror_mode": {
    "name": "ipython",
    "version": 3
   },
   "file_extension": ".py",
   "mimetype": "text/x-python",
   "name": "python",
   "nbconvert_exporter": "python",
   "pygments_lexer": "ipython3",
   "version": "3.8.19"
  }
 },
 "nbformat": 4,
 "nbformat_minor": 5
}
